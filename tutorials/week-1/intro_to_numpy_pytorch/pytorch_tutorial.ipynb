{
 "cells": [
  {
   "cell_type": "markdown",
   "metadata": {
    "id": "xwZnHfv32zWK"
   },
   "source": [
    "## PyTorch - Supervised Learning\n",
    "\n",
    "The following tutorial has been experimented using PyTorch 1.13.0+cu116</br>\n",
    "\n",
    "### Goal of this tutorial\n",
    "- Introduce PyTorch, the tool for scientific computing\n",
    "- Learn the basic PyTorch concepts and modules such as tensors, computational graphs, automatic differentiation, affine transformation, nonlinearity, loss function, optimizer and data loader through self-contained examples\n",
    "- Learn how to train a linear regression model purely in PyTorch\n",
    "\n",
    "###  General\n",
    "- This notebook was last tested on Python 3.8.16, PyTorch 1.13.0+cu116, and Matplotlib 3.2.2\n",
    "\n",
    "We would like to acknowledge the following materials which helped as a reference in preparing this tutorial:\n",
    "- https://pytorch.org/tutorials/\n",
    "- https://github.com/jcjohnson/pytorch-examples\n",
    "- https://github.com/rguthrie3/DeepLearningForNLPInPytorch\n",
    "- https://github.com/hunkim/PyTorchZeroToAll"
   ]
  },
  {
   "cell_type": "markdown",
   "metadata": {
    "id": "N6zk3-3n2zWQ"
   },
   "source": [
    "## Introduction to PyTorch\n",
    "\n",
    "PyTorch is a Python based tool for scientific computing that provides three main features:\n",
    "- An n-dimensional Tensor, which is similar to numpy but can run on GPUs\n",
    "- Easily build big computational graphs for deep learning\n",
    "- Automatic differentiation for computing gradients for neural networks\n",
    "\n",
    "You can install PyTorch from: https://pytorch.org/"
   ]
  },
  {
   "cell_type": "code",
   "execution_count": 1,
   "metadata": {
    "executionInfo": {
     "elapsed": 664,
     "status": "ok",
     "timestamp": 1672753429596,
     "user": {
      "displayName": "Md. Tawkat Islam Khondaker",
      "userId": "12040636431562290492"
     },
     "user_tz": 480
    },
    "id": "9oZo396a2zWR"
   },
   "outputs": [
    {
     "name": "stderr",
     "output_type": "stream",
     "text": [
      "/home/abdul/venv/lib/python3.10/site-packages/tqdm/auto.py:21: TqdmWarning: IProgress not found. Please update jupyter and ipywidgets. See https://ipywidgets.readthedocs.io/en/stable/user_install.html\n",
      "  from .autonotebook import tqdm as notebook_tqdm\n"
     ]
    }
   ],
   "source": [
    "import torch"
   ]
  },
  {
   "cell_type": "markdown",
   "metadata": {
    "id": "MHBWg7O-2zWT"
   },
   "source": [
    "## PyTorch's Tensor\n",
    "\n",
    "Tensor is an n-dimensional array, which is a generalization of a matrix that can be indexed in more than 2 dimensions. Tensor is similar to numpy that most of the operations in numpy object can be performed on a tensor object. However, tensor object benefits from strong GPU acceleration while numpy does not. All computations in deep learning are performed on tensors. Tensors also store optional information such as gradient and bookkeeping for computational graph. \n",
    "\n",
    "\n",
    "###  Tensor Creation\n",
    "Let us start by creating a tensor of size 5x3:"
   ]
  },
  {
   "cell_type": "code",
   "execution_count": 2,
   "metadata": {
    "colab": {
     "base_uri": "https://localhost:8080/"
    },
    "executionInfo": {
     "elapsed": 21,
     "status": "ok",
     "timestamp": 1672753430431,
     "user": {
      "displayName": "Md. Tawkat Islam Khondaker",
      "userId": "12040636431562290492"
     },
     "user_tz": 480
    },
    "id": "4hFrZ2hG2zWU",
    "outputId": "ec675f1a-4958-4620-fda9-bea757197f1d"
   },
   "outputs": [
    {
     "name": "stdout",
     "output_type": "stream",
     "text": [
      "tensor([[1.5430e+24, 4.5733e-41, 8.6658e-21],\n",
      "        [4.5734e-41, 1.5335e+24, 4.5733e-41],\n",
      "        [1.2825e-31, 4.5734e-41, 6.1533e+35],\n",
      "        [3.0707e-41, 1.5400e+24, 4.5733e-41],\n",
      "        [1.5339e+24, 4.5733e-41, 1.5401e+24]])\n"
     ]
    }
   ],
   "source": [
    "x = torch.empty(5, 3)\n",
    "print(x)"
   ]
  },
  {
   "cell_type": "markdown",
   "metadata": {
    "id": "35IW8Lbi2zWV"
   },
   "source": [
    "Note: An uninitialized matrix is declared, but does not contain definite known values before it is used. When an uninitialized matrix is created, whatever values were in the allocated memory at the time will appear as the initial values."
   ]
  },
  {
   "cell_type": "markdown",
   "metadata": {
    "id": "H9vUxfbA2zWW"
   },
   "source": [
    "Construct a randomly initialized tensor of size 5x3:"
   ]
  },
  {
   "cell_type": "code",
   "execution_count": 3,
   "metadata": {
    "colab": {
     "base_uri": "https://localhost:8080/"
    },
    "executionInfo": {
     "elapsed": 19,
     "status": "ok",
     "timestamp": 1672753430432,
     "user": {
      "displayName": "Md. Tawkat Islam Khondaker",
      "userId": "12040636431562290492"
     },
     "user_tz": 480
    },
    "id": "oucyV1iy2zWW",
    "outputId": "4d523620-c8df-47e6-bd94-f306f356c6d0"
   },
   "outputs": [
    {
     "name": "stdout",
     "output_type": "stream",
     "text": [
      "tensor([[0.8994, 0.9483, 0.8792],\n",
      "        [0.7307, 0.0796, 0.7376],\n",
      "        [0.1732, 0.0218, 0.8440],\n",
      "        [0.0816, 0.9572, 0.8727],\n",
      "        [0.2710, 0.6100, 0.6077]])\n"
     ]
    }
   ],
   "source": [
    "x = torch.rand(5, 3) # a tensor filled with random numbers from a uniform distribution on the interval [0,1)\n",
    "print(x) "
   ]
  },
  {
   "cell_type": "code",
   "execution_count": 6,
   "metadata": {},
   "outputs": [],
   "source": [
    "# x.std()"
   ]
  },
  {
   "cell_type": "markdown",
   "metadata": {
    "id": "uaOdxxyp2zWY"
   },
   "source": [
    "Construct a tensor filled zeros and of data type (dtype) long:"
   ]
  },
  {
   "cell_type": "code",
   "execution_count": 5,
   "metadata": {
    "colab": {
     "base_uri": "https://localhost:8080/"
    },
    "executionInfo": {
     "elapsed": 15,
     "status": "ok",
     "timestamp": 1672753430432,
     "user": {
      "displayName": "Md. Tawkat Islam Khondaker",
      "userId": "12040636431562290492"
     },
     "user_tz": 480
    },
    "id": "WHvBaQL_2zWZ",
    "outputId": "dc18f46c-e27a-42ae-9604-2aac8e2528ad"
   },
   "outputs": [
    {
     "name": "stdout",
     "output_type": "stream",
     "text": [
      "tensor([[0, 0, 0],\n",
      "        [0, 0, 0],\n",
      "        [0, 0, 0],\n",
      "        [0, 0, 0],\n",
      "        [0, 0, 0]])\n"
     ]
    }
   ],
   "source": [
    "x = torch.zeros(5, 3, dtype=torch.long)\n",
    "print(x)"
   ]
  },
  {
   "cell_type": "markdown",
   "metadata": {
    "id": "39g0eNsP2zWZ"
   },
   "source": [
    "Construct a tensor directly from data:"
   ]
  },
  {
   "cell_type": "code",
   "execution_count": 7,
   "metadata": {
    "colab": {
     "base_uri": "https://localhost:8080/"
    },
    "executionInfo": {
     "elapsed": 13,
     "status": "ok",
     "timestamp": 1672753430433,
     "user": {
      "displayName": "Md. Tawkat Islam Khondaker",
      "userId": "12040636431562290492"
     },
     "user_tz": 480
    },
    "id": "4_Lb4-wV2zWa",
    "outputId": "e5110918-6ba9-47a5-c6e8-c93970ebfd65"
   },
   "outputs": [
    {
     "name": "stdout",
     "output_type": "stream",
     "text": [
      "tensor([[ 5.5000,  3.0000],\n",
      "        [ 3.2000, 13.0000],\n",
      "        [ 6.9000, 23.0000]])\n"
     ]
    }
   ],
   "source": [
    "x = torch.tensor([[5.5, 3], [3.2, 13], [6.9, 23]])\n",
    "print(x)"
   ]
  },
  {
   "cell_type": "markdown",
   "metadata": {
    "id": "2hOvebkR2zWa"
   },
   "source": [
    "Construct a tensor based on existing tensor: (reusing properties of input tensor like dtype by default)"
   ]
  },
  {
   "cell_type": "code",
   "execution_count": 8,
   "metadata": {
    "colab": {
     "base_uri": "https://localhost:8080/"
    },
    "executionInfo": {
     "elapsed": 11,
     "status": "ok",
     "timestamp": 1672753430434,
     "user": {
      "displayName": "Md. Tawkat Islam Khondaker",
      "userId": "12040636431562290492"
     },
     "user_tz": 480
    },
    "id": "UqQomuxK2zWb",
    "outputId": "294dd234-4f4f-4294-bf19-d298fd61ec54"
   },
   "outputs": [
    {
     "name": "stdout",
     "output_type": "stream",
     "text": [
      "tensor([[-0.4455,  0.5741],\n",
      "        [ 1.5826,  0.2507],\n",
      "        [-0.1246,  0.1572]])\n"
     ]
    }
   ],
   "source": [
    "y = torch.randn_like(x) \n",
    "print(y)"
   ]
  },
  {
   "cell_type": "markdown",
   "metadata": {
    "id": "dcur2w9v2zWc"
   },
   "source": [
    "Get the size of the tensor:"
   ]
  },
  {
   "cell_type": "code",
   "execution_count": 9,
   "metadata": {
    "colab": {
     "base_uri": "https://localhost:8080/"
    },
    "executionInfo": {
     "elapsed": 112,
     "status": "ok",
     "timestamp": 1672753431040,
     "user": {
      "displayName": "Md. Tawkat Islam Khondaker",
      "userId": "12040636431562290492"
     },
     "user_tz": 480
    },
    "id": "oTB1PscH2zWc",
    "outputId": "e54fc5a9-bf61-4a2c-b5dc-338e8a4be333"
   },
   "outputs": [
    {
     "name": "stdout",
     "output_type": "stream",
     "text": [
      "torch.Size([3, 2])\n",
      "2\n"
     ]
    }
   ],
   "source": [
    "print(y.size())  # you can also use y.shape()\n",
    "print(y.size(1)) # get the number of columns"
   ]
  },
  {
   "cell_type": "markdown",
   "metadata": {
    "id": "OOAXbjW92zWd"
   },
   "source": [
    "Construct a 3D tensor:"
   ]
  },
  {
   "cell_type": "code",
   "execution_count": 10,
   "metadata": {
    "colab": {
     "base_uri": "https://localhost:8080/"
    },
    "executionInfo": {
     "elapsed": 107,
     "status": "ok",
     "timestamp": 1672753431041,
     "user": {
      "displayName": "Md. Tawkat Islam Khondaker",
      "userId": "12040636431562290492"
     },
     "user_tz": 480
    },
    "id": "iLbmd4uZ2zWd",
    "outputId": "14f978f4-c3a9-4f14-dae7-02d924bb4413"
   },
   "outputs": [
    {
     "name": "stdout",
     "output_type": "stream",
     "text": [
      "tensor([[[ 5.5000,  3.0000],\n",
      "         [ 3.2000, 13.0000],\n",
      "         [ 6.9000, 23.0000]],\n",
      "\n",
      "        [[ 2.1000,  3.3000],\n",
      "         [ 1.8000,  2.0000],\n",
      "         [ 5.2000, 20.0000]]])\n"
     ]
    }
   ],
   "source": [
    "z = torch.tensor([ [[5.5, 3], [3.2, 13], [6.9, 23]], [[2.1, 3.3], [1.8, 2], [5.2, 20]] ])\n",
    "print(z)"
   ]
  },
  {
   "cell_type": "markdown",
   "metadata": {
    "id": "zdIY2GjI2zWe"
   },
   "source": [
    "What is a 3D tensor anyway? Think about it like this. If you have a vector, indexing into the vector gives you a scalar. If you have a matrix, indexing into the matrix gives you a vector. If you have a 3D tensor, then indexing into the tensor gives you a matrix!\n",
    "\n",
    "The size of the 3D tensor will be 2x3x2 (in this example, 3D tensor is a collection of two 3x2 matrices). Let's print the size: "
   ]
  },
  {
   "cell_type": "code",
   "execution_count": 11,
   "metadata": {
    "colab": {
     "base_uri": "https://localhost:8080/"
    },
    "executionInfo": {
     "elapsed": 102,
     "status": "ok",
     "timestamp": 1672753431042,
     "user": {
      "displayName": "Md. Tawkat Islam Khondaker",
      "userId": "12040636431562290492"
     },
     "user_tz": 480
    },
    "id": "b5tw-15R2zWe",
    "outputId": "ee9969c8-0e67-413e-f953-3fec10faad0d"
   },
   "outputs": [
    {
     "name": "stdout",
     "output_type": "stream",
     "text": [
      "torch.Size([2, 3, 2])\n"
     ]
    }
   ],
   "source": [
    "print(z.size())"
   ]
  },
  {
   "cell_type": "code",
   "execution_count": 12,
   "metadata": {
    "colab": {
     "base_uri": "https://localhost:8080/"
    },
    "executionInfo": {
     "elapsed": 96,
     "status": "ok",
     "timestamp": 1672753431042,
     "user": {
      "displayName": "Md. Tawkat Islam Khondaker",
      "userId": "12040636431562290492"
     },
     "user_tz": 480
    },
    "id": "MtyH2M112zWf",
    "outputId": "130c6c41-381a-47b3-8c17-b72c4e3ca647"
   },
   "outputs": [
    {
     "name": "stdout",
     "output_type": "stream",
     "text": [
      "tensor([[ 2.1000,  3.3000],\n",
      "        [ 1.8000,  2.0000],\n",
      "        [ 5.2000, 20.0000]])\n"
     ]
    }
   ],
   "source": [
    "print(z[1]) # accesses the second dimension (matrix) whose size will be 3x2"
   ]
  },
  {
   "cell_type": "code",
   "execution_count": 13,
   "metadata": {
    "colab": {
     "base_uri": "https://localhost:8080/"
    },
    "executionInfo": {
     "elapsed": 93,
     "status": "ok",
     "timestamp": 1672753431043,
     "user": {
      "displayName": "Md. Tawkat Islam Khondaker",
      "userId": "12040636431562290492"
     },
     "user_tz": 480
    },
    "id": "MRig6sJm2zWf",
    "outputId": "0fe98ddb-8696-45a3-a4eb-0871f76a192b"
   },
   "outputs": [
    {
     "name": "stdout",
     "output_type": "stream",
     "text": [
      "tensor([1.8000, 2.0000])\n"
     ]
    }
   ],
   "source": [
    "print(z[1][1]) # accesses the second dimension of the second dimension (vector) whose size will be 1x2"
   ]
  },
  {
   "cell_type": "code",
   "execution_count": 14,
   "metadata": {
    "colab": {
     "base_uri": "https://localhost:8080/"
    },
    "executionInfo": {
     "elapsed": 91,
     "status": "ok",
     "timestamp": 1672753431044,
     "user": {
      "displayName": "Md. Tawkat Islam Khondaker",
      "userId": "12040636431562290492"
     },
     "user_tz": 480
    },
    "id": "5nRo4wDW2zWf",
    "outputId": "48b65fdf-30a8-4ffc-8b5c-c9e083975d4d"
   },
   "outputs": [
    {
     "name": "stdout",
     "output_type": "stream",
     "text": [
      "tensor(2.)\n"
     ]
    }
   ],
   "source": [
    "print(z[1][1][1]) # accesses the second dimension of the second dimension of the second dimension (scalar) whose size will be 1x1"
   ]
  },
  {
   "cell_type": "code",
   "execution_count": 15,
   "metadata": {
    "colab": {
     "base_uri": "https://localhost:8080/"
    },
    "executionInfo": {
     "elapsed": 87,
     "status": "ok",
     "timestamp": 1672753431044,
     "user": {
      "displayName": "Md. Tawkat Islam Khondaker",
      "userId": "12040636431562290492"
     },
     "user_tz": 480
    },
    "id": "EIwuUESF2zWg",
    "outputId": "d82b9bdd-8e24-4989-ae2e-eec66d96b9ba"
   },
   "outputs": [
    {
     "name": "stdout",
     "output_type": "stream",
     "text": [
      "torch.float32\n"
     ]
    }
   ],
   "source": [
    "print(z.dtype) # prints data type of tensor"
   ]
  },
  {
   "cell_type": "markdown",
   "metadata": {
    "id": "FAFChzxX2zWg"
   },
   "source": [
    "The default data type of a tensor is Float. If you want an integer tensor, you can do:"
   ]
  },
  {
   "cell_type": "code",
   "execution_count": 16,
   "metadata": {
    "colab": {
     "base_uri": "https://localhost:8080/"
    },
    "executionInfo": {
     "elapsed": 86,
     "status": "ok",
     "timestamp": 1672753431045,
     "user": {
      "displayName": "Md. Tawkat Islam Khondaker",
      "userId": "12040636431562290492"
     },
     "user_tz": 480
    },
    "id": "e8zBOZZe2zWg",
    "outputId": "3eb1c03d-ee90-496f-eb0a-5b42b5d01567"
   },
   "outputs": [
    {
     "name": "stdout",
     "output_type": "stream",
     "text": [
      "tensor([3, 4], dtype=torch.int32)\n"
     ]
    }
   ],
   "source": [
    "it = torch.tensor([3, 4], dtype=torch.int)\n",
    "print(it)"
   ]
  },
  {
   "cell_type": "markdown",
   "metadata": {
    "id": "H0BivKA02zWh"
   },
   "source": [
    "###  Operations on a Tensor\n",
    "\n",
    "There are multiple syntaxes for operations. Let us take a look at the addition operation."
   ]
  },
  {
   "cell_type": "code",
   "execution_count": 17,
   "metadata": {
    "colab": {
     "base_uri": "https://localhost:8080/"
    },
    "executionInfo": {
     "elapsed": 83,
     "status": "ok",
     "timestamp": 1672753431045,
     "user": {
      "displayName": "Md. Tawkat Islam Khondaker",
      "userId": "12040636431562290492"
     },
     "user_tz": 480
    },
    "id": "z0otfTha2zWh",
    "outputId": "d0d99845-bfa0-4fb5-a990-6f109923a887"
   },
   "outputs": [
    {
     "name": "stdout",
     "output_type": "stream",
     "text": [
      "tensor([[0.5760, 0.8529, 0.5681],\n",
      "        [0.3300, 0.5639, 0.0382],\n",
      "        [0.5497, 0.4905, 0.7954],\n",
      "        [0.5692, 0.0245, 0.9165],\n",
      "        [0.2037, 0.0713, 0.1308]])\n",
      "tensor([[0.7935, 0.9459, 0.2022],\n",
      "        [0.0768, 0.7223, 0.7327],\n",
      "        [0.3015, 0.7354, 0.3028],\n",
      "        [0.6737, 0.4623, 0.5756],\n",
      "        [0.3978, 0.4626, 0.5141]])\n"
     ]
    }
   ],
   "source": [
    "# let's create two tensors\n",
    "x = torch.rand(5, 3)\n",
    "y = torch.rand(5, 3)\n",
    "# let's print those two tensors\n",
    "print(x)\n",
    "print(y)"
   ]
  },
  {
   "cell_type": "code",
   "execution_count": 18,
   "metadata": {
    "colab": {
     "base_uri": "https://localhost:8080/"
    },
    "executionInfo": {
     "elapsed": 81,
     "status": "ok",
     "timestamp": 1672753431046,
     "user": {
      "displayName": "Md. Tawkat Islam Khondaker",
      "userId": "12040636431562290492"
     },
     "user_tz": 480
    },
    "id": "GQn1J_Yn2zWh",
    "outputId": "0844a040-879b-43c1-f446-ab90db2c0cb0"
   },
   "outputs": [
    {
     "name": "stdout",
     "output_type": "stream",
     "text": [
      "tensor([[1.3695, 1.7988, 0.7703],\n",
      "        [0.4068, 1.2862, 0.7709],\n",
      "        [0.8512, 1.2260, 1.0982],\n",
      "        [1.2430, 0.4868, 1.4922],\n",
      "        [0.6015, 0.5339, 0.6449]])\n",
      "tensor([[1.3695, 1.7988, 0.7703],\n",
      "        [0.4068, 1.2862, 0.7709],\n",
      "        [0.8512, 1.2260, 1.0982],\n",
      "        [1.2430, 0.4868, 1.4922],\n",
      "        [0.6015, 0.5339, 0.6449]])\n"
     ]
    }
   ],
   "source": [
    "# let's add them in two ways\n",
    "print(x + y) # method 1\n",
    "print(torch.add(x, y)) # method 2"
   ]
  },
  {
   "cell_type": "code",
   "execution_count": 19,
   "metadata": {
    "colab": {
     "base_uri": "https://localhost:8080/"
    },
    "executionInfo": {
     "elapsed": 78,
     "status": "ok",
     "timestamp": 1672753431046,
     "user": {
      "displayName": "Md. Tawkat Islam Khondaker",
      "userId": "12040636431562290492"
     },
     "user_tz": 480
    },
    "id": "qvjTD-B-2zWi",
    "outputId": "49c6b3d6-7a53-450a-866e-23801bf04db2"
   },
   "outputs": [
    {
     "data": {
      "text/plain": [
       "tensor([[1.3695, 1.7988, 0.7703],\n",
       "        [0.4068, 1.2862, 0.7709],\n",
       "        [0.8512, 1.2260, 1.0982],\n",
       "        [1.2430, 0.4868, 1.4922],\n",
       "        [0.6015, 0.5339, 0.6449]])"
      ]
     },
     "execution_count": 19,
     "metadata": {},
     "output_type": "execute_result"
    }
   ],
   "source": [
    "y.add_(x) # adds x to y (in-place) y := y + x  (method 3) or alternatively we can do y = torch.add(x,y)"
   ]
  },
  {
   "cell_type": "markdown",
   "metadata": {
    "id": "P5eHmCm92zWi"
   },
   "source": [
    "Any operation that mutates a tensor in-place is post-fixed with an ``_``. For example: ``x.copy_(y)``, ``x.t_()`` (transpose), will change x.\n",
    "\n",
    "We can use standard NumPy-like indexing:"
   ]
  },
  {
   "cell_type": "code",
   "execution_count": 20,
   "metadata": {
    "colab": {
     "base_uri": "https://localhost:8080/"
    },
    "executionInfo": {
     "elapsed": 76,
     "status": "ok",
     "timestamp": 1672753431047,
     "user": {
      "displayName": "Md. Tawkat Islam Khondaker",
      "userId": "12040636431562290492"
     },
     "user_tz": 480
    },
    "id": "EoCvog-S2zWi",
    "outputId": "c9e5d3f0-6d04-4657-b034-28b693c1f922"
   },
   "outputs": [
    {
     "name": "stdout",
     "output_type": "stream",
     "text": [
      "tensor([[0.5760, 0.8529, 0.5681],\n",
      "        [0.3300, 0.5639, 0.0382],\n",
      "        [0.5497, 0.4905, 0.7954],\n",
      "        [0.5692, 0.0245, 0.9165],\n",
      "        [0.2037, 0.0713, 0.1308]])\n",
      "tensor([0.8529, 0.5639, 0.4905, 0.0245, 0.0713])\n"
     ]
    }
   ],
   "source": [
    "print(x) # prints x whose size is 5x3\n",
    "print(x[:, 1]) # prints the second column of tensor whose size is 1x5"
   ]
  },
  {
   "cell_type": "markdown",
   "metadata": {
    "id": "YWcVC0OV2zWj"
   },
   "source": [
    "Let us resize/reshape tensor:"
   ]
  },
  {
   "cell_type": "code",
   "execution_count": 21,
   "metadata": {
    "colab": {
     "base_uri": "https://localhost:8080/"
    },
    "executionInfo": {
     "elapsed": 72,
     "status": "ok",
     "timestamp": 1672753431047,
     "user": {
      "displayName": "Md. Tawkat Islam Khondaker",
      "userId": "12040636431562290492"
     },
     "user_tz": 480
    },
    "id": "2ni0k1Vy2zWj",
    "outputId": "f3a40f95-171a-47c7-f261-4792f7dae506"
   },
   "outputs": [
    {
     "name": "stdout",
     "output_type": "stream",
     "text": [
      "torch.Size([5, 3])\n"
     ]
    }
   ],
   "source": [
    "# let's print x's size\n",
    "print(x.size()) #  5x3"
   ]
  },
  {
   "cell_type": "code",
   "execution_count": 22,
   "metadata": {
    "colab": {
     "base_uri": "https://localhost:8080/"
    },
    "executionInfo": {
     "elapsed": 70,
     "status": "ok",
     "timestamp": 1672753431048,
     "user": {
      "displayName": "Md. Tawkat Islam Khondaker",
      "userId": "12040636431562290492"
     },
     "user_tz": 480
    },
    "id": "qhdYxcqp2zWj",
    "outputId": "a3c3b5d3-15d1-4e91-a29f-675f4bcc7cd2"
   },
   "outputs": [
    {
     "name": "stdout",
     "output_type": "stream",
     "text": [
      "tensor([0.5760, 0.8529, 0.5681, 0.3300, 0.5639, 0.0382, 0.5497, 0.4905, 0.7954,\n",
      "        0.5692, 0.0245, 0.9165, 0.2037, 0.0713, 0.1308])\n",
      "torch.Size([15])\n"
     ]
    }
   ],
   "source": [
    "# let's reshape x to a flat array\n",
    "print(x.view(15)) # print reshaped tensor\n",
    "print(x.view(15).size()) # print size of the reshaped tensor"
   ]
  },
  {
   "cell_type": "markdown",
   "metadata": {
    "id": "BdPmbZPF2zWj"
   },
   "source": [
    "Let us multiply two tensors:"
   ]
  },
  {
   "cell_type": "code",
   "execution_count": 23,
   "metadata": {
    "executionInfo": {
     "elapsed": 68,
     "status": "ok",
     "timestamp": 1672753431048,
     "user": {
      "displayName": "Md. Tawkat Islam Khondaker",
      "userId": "12040636431562290492"
     },
     "user_tz": 480
    },
    "id": "Wx31d9M42zWk"
   },
   "outputs": [],
   "source": [
    "# let's create two tensors\n",
    "a = torch.randn(4, 1) \n",
    "b = torch.randn(1, 4)"
   ]
  },
  {
   "cell_type": "code",
   "execution_count": 24,
   "metadata": {
    "colab": {
     "base_uri": "https://localhost:8080/"
    },
    "executionInfo": {
     "elapsed": 67,
     "status": "ok",
     "timestamp": 1672753431049,
     "user": {
      "displayName": "Md. Tawkat Islam Khondaker",
      "userId": "12040636431562290492"
     },
     "user_tz": 480
    },
    "id": "8w7ssRuG2zWk",
    "outputId": "0a930483-b315-4211-9e50-1001b02b7ad7"
   },
   "outputs": [
    {
     "data": {
      "text/plain": [
       "tensor([[-0.1434,  0.1571, -0.0487,  0.1036],\n",
       "        [-0.8709,  0.9541, -0.2960,  0.6294],\n",
       "        [ 2.5071, -2.7467,  0.8521, -1.8118],\n",
       "        [-2.7877,  3.0542, -0.9475,  2.0146]])"
      ]
     },
     "execution_count": 24,
     "metadata": {},
     "output_type": "execute_result"
    }
   ],
   "source": [
    "# let's multiply each other: a x b \n",
    "torch.mul(a, b) # (4 x 1) x (1 x 4) = (4 x 4) "
   ]
  },
  {
   "cell_type": "markdown",
   "metadata": {
    "id": "RTeNBgbv2zWk"
   },
   "source": [
    "Let us compute the mean of a tensor in one particular dimension:"
   ]
  },
  {
   "cell_type": "code",
   "execution_count": 25,
   "metadata": {
    "colab": {
     "base_uri": "https://localhost:8080/"
    },
    "executionInfo": {
     "elapsed": 65,
     "status": "ok",
     "timestamp": 1672753431049,
     "user": {
      "displayName": "Md. Tawkat Islam Khondaker",
      "userId": "12040636431562290492"
     },
     "user_tz": 480
    },
    "id": "mQX35DLX2zWk",
    "outputId": "25ff944a-01c7-4de9-d739-dd1d35eab382"
   },
   "outputs": [
    {
     "name": "stdout",
     "output_type": "stream",
     "text": [
      "tensor([[ 0.5272, -0.8258,  1.5279, -0.5410,  0.9490],\n",
      "        [ 0.4596,  0.4786, -0.9735,  0.0857,  1.8909],\n",
      "        [-0.0777,  0.1225,  1.3498,  0.7741,  0.3519]])\n"
     ]
    }
   ],
   "source": [
    "# let's create a tensor\n",
    "a = torch.randn(3, 5)\n",
    "print(a)"
   ]
  },
  {
   "cell_type": "code",
   "execution_count": 26,
   "metadata": {
    "colab": {
     "base_uri": "https://localhost:8080/"
    },
    "executionInfo": {
     "elapsed": 62,
     "status": "ok",
     "timestamp": 1672753431050,
     "user": {
      "displayName": "Md. Tawkat Islam Khondaker",
      "userId": "12040636431562290492"
     },
     "user_tz": 480
    },
    "id": "PRlTH1qe2zWl",
    "outputId": "3e34e60b-e707-4932-a03b-35febbba4592"
   },
   "outputs": [
    {
     "name": "stdout",
     "output_type": "stream",
     "text": [
      "tensor([0.3275, 0.3883, 0.5041])\n"
     ]
    }
   ],
   "source": [
    "# let's perform mean of the tensor over columns\n",
    "print(torch.mean(a, 1)) # reduce over columns (1) results in 1x3"
   ]
  },
  {
   "cell_type": "code",
   "execution_count": 27,
   "metadata": {
    "colab": {
     "base_uri": "https://localhost:8080/"
    },
    "executionInfo": {
     "elapsed": 59,
     "status": "ok",
     "timestamp": 1672753431051,
     "user": {
      "displayName": "Md. Tawkat Islam Khondaker",
      "userId": "12040636431562290492"
     },
     "user_tz": 480
    },
    "id": "2l0422BP2zWl",
    "outputId": "02295f4c-9eb5-4c10-dbc8-ac6b1fe3c361"
   },
   "outputs": [
    {
     "name": "stdout",
     "output_type": "stream",
     "text": [
      "tensor([ 0.3030, -0.0749,  0.6347,  0.1063,  1.0639])\n"
     ]
    }
   ],
   "source": [
    "# let's perform mean of the tensor over rows\n",
    "print(torch.mean(a, 0)) # reduce over rows (0) results in 1x5"
   ]
  },
  {
   "cell_type": "markdown",
   "metadata": {
    "id": "sV73-nzo2zWl"
   },
   "source": [
    "Let us compute the max of a tensor in one particular dimension:"
   ]
  },
  {
   "cell_type": "code",
   "execution_count": 28,
   "metadata": {
    "colab": {
     "base_uri": "https://localhost:8080/"
    },
    "executionInfo": {
     "elapsed": 56,
     "status": "ok",
     "timestamp": 1672753431051,
     "user": {
      "displayName": "Md. Tawkat Islam Khondaker",
      "userId": "12040636431562290492"
     },
     "user_tz": 480
    },
    "id": "S1TG-gJ12zWl",
    "outputId": "75c43ace-66c6-4608-e385-bc05e9ba3403"
   },
   "outputs": [
    {
     "name": "stdout",
     "output_type": "stream",
     "text": [
      "tensor([[ 0.1416, -1.3840, -1.0873],\n",
      "        [ 0.8201,  1.2315,  0.4690],\n",
      "        [-0.5058,  0.7571, -1.4972],\n",
      "        [ 0.4205,  0.1866,  0.3273]])\n"
     ]
    }
   ],
   "source": [
    "# let's create a tensor\n",
    "a = torch.randn(4, 3)\n",
    "print(a)"
   ]
  },
  {
   "cell_type": "code",
   "execution_count": 29,
   "metadata": {
    "colab": {
     "base_uri": "https://localhost:8080/"
    },
    "executionInfo": {
     "elapsed": 54,
     "status": "ok",
     "timestamp": 1672753431052,
     "user": {
      "displayName": "Md. Tawkat Islam Khondaker",
      "userId": "12040636431562290492"
     },
     "user_tz": 480
    },
    "id": "yoM4AbT72zWm",
    "outputId": "b130208d-f09b-4d4e-a4c0-846549950947"
   },
   "outputs": [
    {
     "name": "stdout",
     "output_type": "stream",
     "text": [
      "tensor([0.1416, 1.2315, 0.7571, 0.4205])\n",
      "tensor([0, 1, 1, 0])\n"
     ]
    }
   ],
   "source": [
    "# let's identify maximum in each row\n",
    "values, indices = torch.max(a, 1) \n",
    "print(values) # values is the maximum value of each row of the input tensor. (1x4)\n",
    "print(indices) # indices is the index location of each maximum value found (argmax) (1x4)"
   ]
  },
  {
   "cell_type": "markdown",
   "metadata": {
    "id": "pCZkaLv82zWm"
   },
   "source": [
    "You can take a look at the list of supported Tensor functions here: https://pytorch.org/docs/stable/tensors.html\n",
    "\n",
    "### NumPy Bridge \n",
    "We can easily convert a Torch tensor to a numpy array and vice versa.\n",
    "\n",
    "Let us convert a Torch Tensor to a NumPy array:"
   ]
  },
  {
   "cell_type": "code",
   "execution_count": 30,
   "metadata": {
    "colab": {
     "base_uri": "https://localhost:8080/"
    },
    "executionInfo": {
     "elapsed": 52,
     "status": "ok",
     "timestamp": 1672753431053,
     "user": {
      "displayName": "Md. Tawkat Islam Khondaker",
      "userId": "12040636431562290492"
     },
     "user_tz": 480
    },
    "id": "RFlbcC2x2zWm",
    "outputId": "83f77bc1-649c-473d-898a-e035bc6e05dd"
   },
   "outputs": [
    {
     "name": "stdout",
     "output_type": "stream",
     "text": [
      "tensor([1., 1., 1., 1., 1.])\n"
     ]
    }
   ],
   "source": [
    "# let's create a tensor\n",
    "a = torch.ones(5)\n",
    "print(a)"
   ]
  },
  {
   "cell_type": "code",
   "execution_count": 31,
   "metadata": {
    "colab": {
     "base_uri": "https://localhost:8080/"
    },
    "executionInfo": {
     "elapsed": 49,
     "status": "ok",
     "timestamp": 1672753431053,
     "user": {
      "displayName": "Md. Tawkat Islam Khondaker",
      "userId": "12040636431562290492"
     },
     "user_tz": 480
    },
    "id": "Py-zjq6w2zWn",
    "outputId": "1b7c8c35-6074-41f7-d45a-bebb94c83da2"
   },
   "outputs": [
    {
     "name": "stdout",
     "output_type": "stream",
     "text": [
      "[1. 1. 1. 1. 1.]\n"
     ]
    }
   ],
   "source": [
    "# let's convert that tensor to numpy\n",
    "b = a.numpy() # converts Tensor to NumPy with a,b pointing to same memory locations\n",
    "print(b)"
   ]
  },
  {
   "cell_type": "code",
   "execution_count": 32,
   "metadata": {
    "colab": {
     "base_uri": "https://localhost:8080/"
    },
    "executionInfo": {
     "elapsed": 46,
     "status": "ok",
     "timestamp": 1672753431054,
     "user": {
      "displayName": "Md. Tawkat Islam Khondaker",
      "userId": "12040636431562290492"
     },
     "user_tz": 480
    },
    "id": "mI8Ahgqv2zWn",
    "outputId": "8903f5ae-7400-47f3-e8ea-3c0db921080d"
   },
   "outputs": [
    {
     "name": "stdout",
     "output_type": "stream",
     "text": [
      "tensor([2., 2., 2., 2., 2.])\n",
      "[2. 2. 2. 2. 2.]\n"
     ]
    }
   ],
   "source": [
    "# manipulate 'a' (changes will reflect in 'b')\n",
    "a.add_(1)\n",
    "print(a)\n",
    "print(b)"
   ]
  },
  {
   "cell_type": "markdown",
   "metadata": {
    "id": "cM8iOb4R2zWo"
   },
   "source": [
    "Let us convert a NumPy array to a Torch Tensor:"
   ]
  },
  {
   "cell_type": "code",
   "execution_count": 33,
   "metadata": {
    "colab": {
     "base_uri": "https://localhost:8080/"
    },
    "executionInfo": {
     "elapsed": 44,
     "status": "ok",
     "timestamp": 1672753431055,
     "user": {
      "displayName": "Md. Tawkat Islam Khondaker",
      "userId": "12040636431562290492"
     },
     "user_tz": 480
    },
    "id": "4WZa2dVD2zWo",
    "outputId": "a66a4dd5-7268-4eac-fb89-2e7e1c05a6e5"
   },
   "outputs": [
    {
     "name": "stdout",
     "output_type": "stream",
     "text": [
      "[1. 1. 1. 1. 1.]\n"
     ]
    }
   ],
   "source": [
    "# let's create a numpy array\n",
    "import numpy as np\n",
    "a = np.ones(5)\n",
    "print(a)"
   ]
  },
  {
   "cell_type": "code",
   "execution_count": 34,
   "metadata": {
    "colab": {
     "base_uri": "https://localhost:8080/"
    },
    "executionInfo": {
     "elapsed": 41,
     "status": "ok",
     "timestamp": 1672753431055,
     "user": {
      "displayName": "Md. Tawkat Islam Khondaker",
      "userId": "12040636431562290492"
     },
     "user_tz": 480
    },
    "id": "wLHVYZT72zWp",
    "outputId": "59e709fc-cd50-4d75-af3c-70c1f6a6d7d7"
   },
   "outputs": [
    {
     "name": "stdout",
     "output_type": "stream",
     "text": [
      "tensor([1., 1., 1., 1., 1.], dtype=torch.float64)\n"
     ]
    }
   ],
   "source": [
    "# let's convert to tensor\n",
    "b = torch.from_numpy(a)\n",
    "print(b)"
   ]
  },
  {
   "cell_type": "code",
   "execution_count": 35,
   "metadata": {
    "colab": {
     "base_uri": "https://localhost:8080/"
    },
    "executionInfo": {
     "elapsed": 39,
     "status": "ok",
     "timestamp": 1672753431056,
     "user": {
      "displayName": "Md. Tawkat Islam Khondaker",
      "userId": "12040636431562290492"
     },
     "user_tz": 480
    },
    "id": "97G8d-F22zWp",
    "outputId": "26c08028-fa2a-48e9-d561-93f98e244e9f"
   },
   "outputs": [
    {
     "name": "stdout",
     "output_type": "stream",
     "text": [
      "[2. 2. 2. 2. 2.]\n",
      "tensor([2., 2., 2., 2., 2.], dtype=torch.float64)\n"
     ]
    }
   ],
   "source": [
    "# manipulate 'a' (changes will reflect in 'b')\n",
    "np.add(a, 1, out=a)\n",
    "print(a)\n",
    "print(b)"
   ]
  },
  {
   "cell_type": "markdown",
   "metadata": {
    "id": "3Sglb5jx2zWp"
   },
   "source": [
    "### CUDA Tensors\n",
    "\n",
    "We can use ``.to`` function to move Tensors onto any device. Generally, we move tensors to GPUs to accelerate the computation."
   ]
  },
  {
   "cell_type": "code",
   "execution_count": 37,
   "metadata": {
    "executionInfo": {
     "elapsed": 36,
     "status": "ok",
     "timestamp": 1672753431056,
     "user": {
      "displayName": "Md. Tawkat Islam Khondaker",
      "userId": "12040636431562290492"
     },
     "user_tz": 480
    },
    "id": "mchOLnqC2zWp"
   },
   "outputs": [],
   "source": [
    "# let us run this cell only if CUDA is available\n",
    "# We will use ``torch.device`` objects to move tensors in and out of GPU\n",
    "if torch.cuda.is_available():\n",
    "  device = torch.device(\"cuda\")          # a CUDA device object\n",
    "  y = torch.ones_like(x, device=device)  # directly create a tensor on GPU\n",
    "  x = x.to(device)                       # or just use strings ``.to(\"cuda\")``\n",
    "  z = x + y\n",
    "  print(z)\n",
    "  print(z.to(\"cpu\", torch.double))       # ``.to`` can also change dtype together!"
   ]
  },
  {
   "cell_type": "markdown",
   "metadata": {
    "id": "XOv73zWZ2zWq"
   },
   "source": [
    "## Computational Graph and Automatic Differentiation\n",
    "\n",
    "Computation graph is an essential concept for efficient deep learning programming, because it allows you to not explicitly write the back propagation gradients yourselves. A computation graph is simply a specification of how your data is combined to give you the output. Since the graph totally specifies what parameters were involved with which operations, it contains enough information to compute derivatives. \n",
    "\n",
    "The ``autograd`` package provides automatic differentiation for all operations on Tensors. It is a define-by-run framework, which means that your backprop is defined by how your code is run, and that every single iteration can be different.\n",
    "\n",
    "Let us see this in more simple terms with some examples.\n",
    "\n",
    "Besides keeping track of size, data type and other things, Tensors can also keep track of how it was created. If you set its attribute ``.requires_grad`` as ``True``, it starts to track all operations on it.\n",
    "\n",
    "Let us see some example:"
   ]
  },
  {
   "cell_type": "code",
   "execution_count": 39,
   "metadata": {
    "colab": {
     "base_uri": "https://localhost:8080/"
    },
    "executionInfo": {
     "elapsed": 36,
     "status": "ok",
     "timestamp": 1672753431057,
     "user": {
      "displayName": "Md. Tawkat Islam Khondaker",
      "userId": "12040636431562290492"
     },
     "user_tz": 480
    },
    "id": "8Er-N4Hr2zWq",
    "outputId": "3dc008f0-81ce-4ff0-fcac-da20c8a19659"
   },
   "outputs": [
    {
     "name": "stdout",
     "output_type": "stream",
     "text": [
      "tensor([1., 2., 3.], requires_grad=True)\n",
      "tensor([5., 1., 4.], requires_grad=True)\n"
     ]
    }
   ],
   "source": [
    "# create two tensors\n",
    "a = torch.tensor([1., 2., 3], requires_grad=True) \n",
    "b = torch.tensor([5., 1., 4], requires_grad=True) \n",
    "print(a) # 1x3\n",
    "print(b) # 1x3"
   ]
  },
  {
   "cell_type": "code",
   "execution_count": 40,
   "metadata": {
    "colab": {
     "base_uri": "https://localhost:8080/"
    },
    "executionInfo": {
     "elapsed": 583,
     "status": "ok",
     "timestamp": 1672753431607,
     "user": {
      "displayName": "Md. Tawkat Islam Khondaker",
      "userId": "12040636431562290492"
     },
     "user_tz": 480
    },
    "id": "mXbpHhym2zWq",
    "outputId": "4b29d8fe-0ee2-4de0-bfb8-5a02b05f3fa6"
   },
   "outputs": [
    {
     "name": "stdout",
     "output_type": "stream",
     "text": [
      "tensor([6., 3., 7.])\n"
     ]
    }
   ],
   "source": [
    "# add those tensors\n",
    "c = a + b # 1x3\n",
    "print(c.data) # 1x3"
   ]
  },
  {
   "cell_type": "code",
   "execution_count": 41,
   "metadata": {
    "colab": {
     "base_uri": "https://localhost:8080/"
    },
    "executionInfo": {
     "elapsed": 61,
     "status": "ok",
     "timestamp": 1672753431608,
     "user": {
      "displayName": "Md. Tawkat Islam Khondaker",
      "userId": "12040636431562290492"
     },
     "user_tz": 480
    },
    "id": "fQLySZR22zWq",
    "outputId": "534044bc-f620-4b50-a162-c877c4c36cde"
   },
   "outputs": [
    {
     "name": "stdout",
     "output_type": "stream",
     "text": [
      "<AddBackward0 object at 0x7f7c676ad900>\n"
     ]
    }
   ],
   "source": [
    "# but c knows something extra.\n",
    "print(c.grad_fn) # c knows that it was a result of addition of two tensors"
   ]
  },
  {
   "cell_type": "code",
   "execution_count": 42,
   "metadata": {
    "colab": {
     "base_uri": "https://localhost:8080/"
    },
    "executionInfo": {
     "elapsed": 58,
     "status": "ok",
     "timestamp": 1672753431609,
     "user": {
      "displayName": "Md. Tawkat Islam Khondaker",
      "userId": "12040636431562290492"
     },
     "user_tz": 480
    },
    "id": "TZ06tWFl2zWr",
    "outputId": "b3f6f59c-b452-4224-86e8-22bf8d1b3426"
   },
   "outputs": [
    {
     "name": "stdout",
     "output_type": "stream",
     "text": [
      "tensor(16., grad_fn=<SumBackward0>)\n",
      "<SumBackward0 object at 0x7f7d1c09a6b0>\n"
     ]
    }
   ],
   "source": [
    "# sum all entries in c\n",
    "d = c.sum() # 1x1\n",
    "print(d)\n",
    "print(d.grad_fn) # d knows that it was a sum of all elements in a single tensor."
   ]
  },
  {
   "cell_type": "markdown",
   "metadata": {
    "id": "3BRktQ3Q2zWr"
   },
   "source": [
    "``c`` knows that it was a result of addition of two tensors while ``d`` knows that it was a sum of all elements in a single tensor. Thus, a computation graph is simply a specification of how your data is combined to give you the output. You can imagine this computational graph as below:\n",
    "<img src=\"images/sl1_pytorch_cgraph_sum.jpg\" alt=\"computational graph example\" title=\"Example Computational Graph\" />\n",
    "\n",
    "Once we define the computational graph, we can call ``.backward()`` and have all the gradients computed automatically. The gradient for a tensor will be accumulated into ``.grad`` attribute."
   ]
  },
  {
   "cell_type": "code",
   "execution_count": 43,
   "metadata": {
    "colab": {
     "base_uri": "https://localhost:8080/"
    },
    "executionInfo": {
     "elapsed": 54,
     "status": "ok",
     "timestamp": 1672753431610,
     "user": {
      "displayName": "Md. Tawkat Islam Khondaker",
      "userId": "12040636431562290492"
     },
     "user_tz": 480
    },
    "id": "jfqXsF5L2zWr",
    "outputId": "ab9d8844-0b02-4021-9bfe-8a7da720556a"
   },
   "outputs": [
    {
     "name": "stdout",
     "output_type": "stream",
     "text": [
      "tensor([1., 1., 1.])\n"
     ]
    }
   ],
   "source": [
    "d.backward()\n",
    "print(a.grad) # 1x3"
   ]
  },
  {
   "cell_type": "markdown",
   "metadata": {
    "id": "pb3xfqHb2zWr"
   },
   "source": [
    "You can trust us that these gradients are correct. PyTorch lets you define arbitrary computation graph that is made up of tensor (``torch.tensor``) and modules (off-the-shelf layers from ``torch.nn`` and custom layers/models). \n",
    "\n",
    "Important Note: If you run the above block multiple times, the gradient will increment. That is because Pytorch accumulates the gradient into the ``.grad`` property, since for many models this is very convenient."
   ]
  },
  {
   "cell_type": "markdown",
   "metadata": {
    "id": "_iB6RpYX2zWs"
   },
   "source": [
    "## Linearities, Nonlinearities and Loss functions\n",
    "\n",
    "A deep learning model is typically composed of linearities (affine transformation) and nonlinearities in a clever way. The nonlinearities makes the deep learning models powerful. The last node of the computational graph is typically a loss function (or objective function), which measure how far away the model prediction is from the actual target. PyTorch has most of the commonly used linearities, nonlinearities and loss functions already inbuilt into the library. Adding them to your computational graph is straightforward as we will see now.\n",
    "\n",
    "### Linearities\n",
    "Affine transformation is the commonly used linearity, which is a function $f(x)$ where $f(x) = A x + b$\n",
    "for a matrix $A$ and vectors $x, b$. The parameters to be learned here are $A$ and $b$. Often, $b$ is refered to as the bias term.\n",
    "\n",
    "Let us transform a sample data using affine transformation:"
   ]
  },
  {
   "cell_type": "code",
   "execution_count": 44,
   "metadata": {
    "colab": {
     "base_uri": "https://localhost:8080/"
    },
    "executionInfo": {
     "elapsed": 51,
     "status": "ok",
     "timestamp": 1672753431611,
     "user": {
      "displayName": "Md. Tawkat Islam Khondaker",
      "userId": "12040636431562290492"
     },
     "user_tz": 480
    },
    "id": "WXdVEL3O2zWs",
    "outputId": "20fba340-b1a6-44f0-ef03-8d7528345633"
   },
   "outputs": [
    {
     "name": "stdout",
     "output_type": "stream",
     "text": [
      "Linear(in_features=5, out_features=3, bias=True)\n"
     ]
    }
   ],
   "source": [
    "# let's define a affine transformation based linearity layer\n",
    "linear_layer = torch.nn.Linear(5, 3) # maps from R^5 to R^3, parameters A, b\n",
    "print(linear_layer)"
   ]
  },
  {
   "cell_type": "markdown",
   "metadata": {
    "id": "NAef7_ow2zWt"
   },
   "source": [
    "Let us print the parameters: A matrix and b vector"
   ]
  },
  {
   "cell_type": "code",
   "execution_count": 45,
   "metadata": {
    "colab": {
     "base_uri": "https://localhost:8080/"
    },
    "executionInfo": {
     "elapsed": 46,
     "status": "ok",
     "timestamp": 1672753431611,
     "user": {
      "displayName": "Md. Tawkat Islam Khondaker",
      "userId": "12040636431562290492"
     },
     "user_tz": 480
    },
    "id": "PNgb5ZDS2zWt",
    "outputId": "11ad4704-a65d-4cf6-f866-2cad8a4417d8"
   },
   "outputs": [
    {
     "name": "stdout",
     "output_type": "stream",
     "text": [
      "tensor([[-0.2734,  0.2833,  0.1168,  0.2768, -0.1220],\n",
      "        [-0.3690, -0.4023,  0.4372, -0.2199,  0.0127],\n",
      "        [-0.1603, -0.2710, -0.0272, -0.3640,  0.2716]])\n",
      "tensor([ 0.0864,  0.3018, -0.0812])\n"
     ]
    }
   ],
   "source": [
    "print(linear_layer.weight.data) # prints A  3x5\n",
    "print(linear_layer.bias.data) # prints b  1x3"
   ]
  },
  {
   "cell_type": "markdown",
   "metadata": {
    "id": "0KOp_QTY2zWu"
   },
   "source": [
    "Let us create some data and pass it to the linear layer."
   ]
  },
  {
   "cell_type": "code",
   "execution_count": 46,
   "metadata": {
    "executionInfo": {
     "elapsed": 44,
     "status": "ok",
     "timestamp": 1672753431612,
     "user": {
      "displayName": "Md. Tawkat Islam Khondaker",
      "userId": "12040636431562290492"
     },
     "user_tz": 480
    },
    "id": "DbNHh6DA2zWu"
   },
   "outputs": [],
   "source": [
    "# let's create data 'x'\n",
    "x = torch.randn(1, 5) # data is 1x5. "
   ]
  },
  {
   "cell_type": "code",
   "execution_count": 47,
   "metadata": {
    "colab": {
     "base_uri": "https://localhost:8080/"
    },
    "executionInfo": {
     "elapsed": 44,
     "status": "ok",
     "timestamp": 1672753431613,
     "user": {
      "displayName": "Md. Tawkat Islam Khondaker",
      "userId": "12040636431562290492"
     },
     "user_tz": 480
    },
    "id": "wP1LbgFX2zWv",
    "outputId": "52053861-ab05-4901-f582-ed2a342bb749"
   },
   "outputs": [
    {
     "name": "stdout",
     "output_type": "stream",
     "text": [
      "tensor([[ 0.3464,  0.1562, -0.1833]], grad_fn=<AddmmBackward0>)\n"
     ]
    }
   ],
   "source": [
    "# let's compute f(x) by passing x to the linear layer\n",
    "transformed_output = linear_layer(x)\n",
    "print(transformed_output)\n",
    "# print(linear_layer(torch.randn(1, 6))) # error: size mismatch, m1: [1 x 6], m2: [5 x 3] "
   ]
  },
  {
   "cell_type": "markdown",
   "metadata": {
    "id": "uJTlpzZr2zWv"
   },
   "source": [
    "You can look into the other linear layers here: https://pytorch.org/docs/stable/nn.html#linear-layers\n",
    "\n",
    "### Nonlinearities\n",
    "Nonlinearities lets you build powerful deep learning models. For example, sigmoid nonlinearity squashes the input to be between 0 and 1. Sigmoid nonlinearity is defined by $\\sigma(x) = \\frac{1}{1+\\exp(-x)}$. \n",
    "\n",
    "Let us see an example for using sigmoid nonlinearity on sample input:"
   ]
  },
  {
   "cell_type": "code",
   "execution_count": 48,
   "metadata": {
    "executionInfo": {
     "elapsed": 42,
     "status": "ok",
     "timestamp": 1672753431614,
     "user": {
      "displayName": "Md. Tawkat Islam Khondaker",
      "userId": "12040636431562290492"
     },
     "user_tz": 480
    },
    "id": "PagezOvb2zWv"
   },
   "outputs": [],
   "source": [
    "# let's define sigmoid layer\n",
    "sigmoid_layer = torch.nn.Sigmoid()"
   ]
  },
  {
   "cell_type": "code",
   "execution_count": 49,
   "metadata": {
    "colab": {
     "base_uri": "https://localhost:8080/"
    },
    "executionInfo": {
     "elapsed": 41,
     "status": "ok",
     "timestamp": 1672753431614,
     "user": {
      "displayName": "Md. Tawkat Islam Khondaker",
      "userId": "12040636431562290492"
     },
     "user_tz": 480
    },
    "id": "x4bvc4t22zWv",
    "outputId": "a663a376-dd69-462e-8afb-dc786accd903"
   },
   "outputs": [
    {
     "name": "stdout",
     "output_type": "stream",
     "text": [
      "tensor([[-0.4723, -1.2290, -0.1276, -1.3841,  1.2402]])\n"
     ]
    }
   ],
   "source": [
    "# let's define x\n",
    "x = torch.randn(1, 5) # data is 1x5.\n",
    "print(x)"
   ]
  },
  {
   "cell_type": "code",
   "execution_count": 50,
   "metadata": {
    "colab": {
     "base_uri": "https://localhost:8080/"
    },
    "executionInfo": {
     "elapsed": 39,
     "status": "ok",
     "timestamp": 1672753431615,
     "user": {
      "displayName": "Md. Tawkat Islam Khondaker",
      "userId": "12040636431562290492"
     },
     "user_tz": 480
    },
    "id": "o7onHyL32zWw",
    "outputId": "62c16724-1d7a-4aee-874e-7f8be3740055"
   },
   "outputs": [
    {
     "name": "stdout",
     "output_type": "stream",
     "text": [
      "tensor([[0.3841, 0.2264, 0.4681, 0.2003, 0.7756]])\n"
     ]
    }
   ],
   "source": [
    "# let's pass x to sigmoid layer\n",
    "sigmoid_out = sigmoid_layer(x) # applies sigmoid element-wise results in 1x5 (doesn't change dimension)\n",
    "print(sigmoid_out)"
   ]
  },
  {
   "cell_type": "markdown",
   "metadata": {
    "id": "_6x9oc9-2zWw"
   },
   "source": [
    "Another commonly used nonlinearity is softmax function, which rescales an n-dimensional input Tensor so that the elements of the n-dimensional output Tensor lie in the range $[0,1]$ and sum to 1. \n",
    "\n",
    "The softmax function is defined as, $softmax(x_i) = \\frac{\\exp{(x_i)}}{\\sum_j{\\exp{(x_j)}}}$\n",
    "\n",
    "Let us see an example for using softmax nonlinearity on sample input:"
   ]
  },
  {
   "cell_type": "code",
   "execution_count": 51,
   "metadata": {
    "executionInfo": {
     "elapsed": 39,
     "status": "ok",
     "timestamp": 1672753431617,
     "user": {
      "displayName": "Md. Tawkat Islam Khondaker",
      "userId": "12040636431562290492"
     },
     "user_tz": 480
    },
    "id": "vCpmMdSr2zWw"
   },
   "outputs": [],
   "source": [
    "# let's create a softmax layer\n",
    "softmax_layer = torch.nn.Softmax(dim=1) # row-wise softmax"
   ]
  },
  {
   "cell_type": "code",
   "execution_count": 52,
   "metadata": {
    "colab": {
     "base_uri": "https://localhost:8080/"
    },
    "executionInfo": {
     "elapsed": 39,
     "status": "ok",
     "timestamp": 1672753431618,
     "user": {
      "displayName": "Md. Tawkat Islam Khondaker",
      "userId": "12040636431562290492"
     },
     "user_tz": 480
    },
    "id": "CMB8K57s2zWw",
    "outputId": "23afeca7-fae8-4bc4-9575-be491ff81184"
   },
   "outputs": [
    {
     "name": "stdout",
     "output_type": "stream",
     "text": [
      "tensor([[1.1955, 0.0310, 0.5599, 0.0889, 1.3935]])\n"
     ]
    }
   ],
   "source": [
    "# let's create x\n",
    "x = torch.randn(1, 5) # data is 1x5.\n",
    "print(x)"
   ]
  },
  {
   "cell_type": "code",
   "execution_count": 53,
   "metadata": {
    "executionInfo": {
     "elapsed": 34,
     "status": "ok",
     "timestamp": 1672753431618,
     "user": {
      "displayName": "Md. Tawkat Islam Khondaker",
      "userId": "12040636431562290492"
     },
     "user_tz": 480
    },
    "id": "vEQFQ2O22zWx"
   },
   "outputs": [],
   "source": [
    "# let's pass x to the softmax_layer\n",
    "softmax_out = softmax_layer(x) "
   ]
  },
  {
   "cell_type": "code",
   "execution_count": 54,
   "metadata": {
    "colab": {
     "base_uri": "https://localhost:8080/"
    },
    "executionInfo": {
     "elapsed": 34,
     "status": "ok",
     "timestamp": 1672753431619,
     "user": {
      "displayName": "Md. Tawkat Islam Khondaker",
      "userId": "12040636431562290492"
     },
     "user_tz": 480
    },
    "id": "56VNYnp22zWx",
    "outputId": "bb720f5e-2780-47c4-f762-53527e2761bd"
   },
   "outputs": [
    {
     "name": "stdout",
     "output_type": "stream",
     "text": [
      "tensor([[0.2949, 0.0920, 0.1562, 0.0975, 0.3594]])\n"
     ]
    }
   ],
   "source": [
    "# lets print softmax output\n",
    "print(softmax_out) # each entry is between 0 to 1  "
   ]
  },
  {
   "cell_type": "code",
   "execution_count": 55,
   "metadata": {
    "colab": {
     "base_uri": "https://localhost:8080/"
    },
    "executionInfo": {
     "elapsed": 30,
     "status": "ok",
     "timestamp": 1672753431619,
     "user": {
      "displayName": "Md. Tawkat Islam Khondaker",
      "userId": "12040636431562290492"
     },
     "user_tz": 480
    },
    "id": "ld8HE9JZ2zWx",
    "outputId": "89763e9f-8384-4560-ee18-de25a3a05f35"
   },
   "outputs": [
    {
     "name": "stdout",
     "output_type": "stream",
     "text": [
      "tensor(1.)\n"
     ]
    }
   ],
   "source": [
    "# softmax output sums to 1.0\n",
    "print(softmax_out[0].sum()) "
   ]
  },
  {
   "cell_type": "markdown",
   "metadata": {
    "id": "To7V6r7Q2zWx"
   },
   "source": [
    "You can look at the other nonlinear layers here: https://pytorch.org/docs/stable/nn.html#non-linear-activations-other\n",
    "\n",
    "### Loss function\n",
    "A loss function takes the (model prediction, target) pair of inputs, and computes a value that estimates how far away the model prediction is from the target.\n",
    "\n",
    "A simple loss is: ``nn.MSELoss`` which computes the mean-squared error between the model prediction ($\\hat{y}_i$) and the target ($y_i$). Mean Squared error can be written as, $(\\hat{y}_i - y_i)^{2}$\n",
    "\n",
    "Let us see an example for using MSELoss on output from Linear+softmax model and (randomly sampled) target (usually target is annotated by human but we create it synthetically in this tutorial for simplicity):"
   ]
  },
  {
   "cell_type": "code",
   "execution_count": 56,
   "metadata": {
    "colab": {
     "base_uri": "https://localhost:8080/"
    },
    "executionInfo": {
     "elapsed": 28,
     "status": "ok",
     "timestamp": 1672753431620,
     "user": {
      "displayName": "Md. Tawkat Islam Khondaker",
      "userId": "12040636431562290492"
     },
     "user_tz": 480
    },
    "id": "h1fnumJ32zWy",
    "outputId": "1d954767-710e-4ec8-f0ab-0fbd0e0bd6a0",
    "scrolled": true
   },
   "outputs": [
    {
     "name": "stdout",
     "output_type": "stream",
     "text": [
      "tensor([[0.5716, 1.2524, 1.9376]])\n"
     ]
    }
   ],
   "source": [
    "# create data (input, target)\n",
    "data_input = torch.randn(1,3) # 1 example, 3 input features\n",
    "data_output = torch.randn(1,3) # 1 example, 3 target label\n",
    "print(data_output) # 1x3"
   ]
  },
  {
   "cell_type": "code",
   "execution_count": 57,
   "metadata": {
    "executionInfo": {
     "elapsed": 490,
     "status": "ok",
     "timestamp": 1672753432086,
     "user": {
      "displayName": "Md. Tawkat Islam Khondaker",
      "userId": "12040636431562290492"
     },
     "user_tz": 480
    },
    "id": "9OoZGaU-2zWy"
   },
   "outputs": [],
   "source": [
    "# define linear and softmax layer\n",
    "linear_layer = torch.nn.Linear(3, 3)\n",
    "softmax_layer = torch.nn.Softmax(dim=1)"
   ]
  },
  {
   "cell_type": "code",
   "execution_count": 58,
   "metadata": {
    "colab": {
     "base_uri": "https://localhost:8080/"
    },
    "executionInfo": {
     "elapsed": 22,
     "status": "ok",
     "timestamp": 1672753432086,
     "user": {
      "displayName": "Md. Tawkat Islam Khondaker",
      "userId": "12040636431562290492"
     },
     "user_tz": 480
    },
    "id": "OMGzkfG62zWy",
    "outputId": "cfe4db4f-00be-4fbd-e02c-f84707a9011e"
   },
   "outputs": [
    {
     "name": "stdout",
     "output_type": "stream",
     "text": [
      "tensor([[0.3976, 0.1360, 0.4664]], grad_fn=<SoftmaxBackward0>)\n"
     ]
    }
   ],
   "source": [
    "# forward pass the data_input through the model (computational graph)\n",
    "transformed_output = linear_layer(data_input) # maps from R^3 to R^1, parameters A, b i.e. maps 1x3 to 1x3\n",
    "model_output = softmax_layer(transformed_output)\n",
    "print(model_output)"
   ]
  },
  {
   "cell_type": "code",
   "execution_count": 59,
   "metadata": {
    "colab": {
     "base_uri": "https://localhost:8080/"
    },
    "executionInfo": {
     "elapsed": 21,
     "status": "ok",
     "timestamp": 1672753432087,
     "user": {
      "displayName": "Md. Tawkat Islam Khondaker",
      "userId": "12040636431562290492"
     },
     "user_tz": 480
    },
    "id": "jft3H6Tm2zWy",
    "outputId": "942e9469-aa96-4150-cc50-4464fa603f2d"
   },
   "outputs": [
    {
     "name": "stdout",
     "output_type": "stream",
     "text": [
      "tensor(1.1471, grad_fn=<MseLossBackward0>)\n"
     ]
    }
   ],
   "source": [
    "# compute the MSELoss\n",
    "criterion = torch.nn.MSELoss()\n",
    "loss = criterion(model_output, data_output) \n",
    "print(loss) # the MSE loss of 1 individual example  "
   ]
  },
  {
   "cell_type": "markdown",
   "metadata": {
    "id": "AoNPf1Gr2zWz"
   },
   "source": [
    "You can imagine the above computational graph to be like this:\n",
    "\n",
    "<img src=\"images/sl1_pytorch_softmax.jpg\" alt=\"computational graph example\" title=\"Example Computational Graph\" />\n",
    "\n",
    "You can look at the other loss layers here: https://pytorch.org/docs/stable/nn.html#loss-functions\n",
    "\n",
    "## Optimization\n",
    "\n",
    "So far, we know:\n",
    "- how to define an arbitrary computation graph (model) with linearities, nonlinearities\n",
    "- how to add loss function to our model to measure the quality of models' predictions\n",
    "- how to use ``backward`` function to compute the gradients\n",
    "\n",
    "The only remaining piece of your PyTorch model is how to update (or learn) the weights (e.g., parameters $A, b$ of the linear layer). The commonly used optimization algorithm for neural networks is gradient descent (GD), which first randomly initializes the weight and changes the weight based on the update rule: $\\theta^{(t+1)} = \\theta^{(t)} - \\frac{1}{n} \\eta \\nabla_\\theta{L(\\theta)} $, where $\\eta$, $\\theta$ and $L(\\theta)$ corresponds to the learning rate (or step size), the parameters of the model (e.g., $A$ and $b$ put together) and the loss function over the parameters. $\\nabla_\\theta{L(\\theta)}$ correspond to the gradient which is calculated (resides in ``grads`` attribute of the tensor) when you call ``backward`` function. Therefore, the weight at the current step is equivalent to the weight at the previous step subtracted from multiplying the gradient (w.r.t weight in previous step) with the learning rate scaled by the number of examples ($n$) for this update.\n",
    "\n",
    "Let us see an example which updates the weight of our previous Linear+Softmax model with MSELoss:"
   ]
  },
  {
   "cell_type": "code",
   "execution_count": 60,
   "metadata": {
    "colab": {
     "base_uri": "https://localhost:8080/"
    },
    "executionInfo": {
     "elapsed": 19,
     "status": "ok",
     "timestamp": 1672753432088,
     "user": {
      "displayName": "Md. Tawkat Islam Khondaker",
      "userId": "12040636431562290492"
     },
     "user_tz": 480
    },
    "id": "mjUJ-R3a2zWz",
    "outputId": "f1cc02b5-75fe-4cbc-ca75-d44e78afffc6"
   },
   "outputs": [
    {
     "name": "stdout",
     "output_type": "stream",
     "text": [
      "tensor([[ 0.0912,  0.2535,  0.2916],\n",
      "        [-0.3922, -0.0710,  0.4374],\n",
      "        [-0.2286, -0.0651, -0.2869]])\n"
     ]
    }
   ],
   "source": [
    "# get a reference to the weights (or parameters)\n",
    "model_weights = linear_layer.weight.data # note other layers in the previous graph do not have parameters\n",
    "print(model_weights) # prints model weights before GD update"
   ]
  },
  {
   "cell_type": "code",
   "execution_count": 61,
   "metadata": {
    "colab": {
     "base_uri": "https://localhost:8080/"
    },
    "executionInfo": {
     "elapsed": 16,
     "status": "ok",
     "timestamp": 1672753432088,
     "user": {
      "displayName": "Md. Tawkat Islam Khondaker",
      "userId": "12040636431562290492"
     },
     "user_tz": 480
    },
    "id": "YNAO9QQa2zWz",
    "outputId": "751b711b-8eb3-4fb8-95f1-f8dca6bb267d"
   },
   "outputs": [
    {
     "name": "stdout",
     "output_type": "stream",
     "text": [
      "tensor([[-0.0125,  0.4311, -0.1588],\n",
      "        [ 0.0012, -0.0421,  0.0155],\n",
      "        [ 0.0113, -0.3890,  0.1433]])\n"
     ]
    }
   ],
   "source": [
    "# compute the gradients ($\\nabla_\\theta{L(\\theta)}$)\n",
    "# the whole graph is differentiated w.r.t. the loss, \n",
    "# and all Tensors in the graph that has requires_grad=True \n",
    "# will have their .grad Tensor accumulated with the gradient.\n",
    "loss.backward()\n",
    "print(linear_layer.weight.grad) # prints the gradient w.r.t each parameter for the given data input"
   ]
  },
  {
   "cell_type": "code",
   "execution_count": 62,
   "metadata": {
    "colab": {
     "base_uri": "https://localhost:8080/"
    },
    "executionInfo": {
     "elapsed": 14,
     "status": "ok",
     "timestamp": 1672753432089,
     "user": {
      "displayName": "Md. Tawkat Islam Khondaker",
      "userId": "12040636431562290492"
     },
     "user_tz": 480
    },
    "id": "5Iyb59te2zWz",
    "outputId": "54cce74a-ffc1-4cf3-bf5b-46d875d56e84"
   },
   "outputs": [
    {
     "name": "stdout",
     "output_type": "stream",
     "text": [
      "tensor([[ 0.0925,  0.2104,  0.3075],\n",
      "        [-0.3923, -0.0668,  0.4359],\n",
      "        [-0.2297, -0.0262, -0.3012]])\n"
     ]
    }
   ],
   "source": [
    "# make the GD update\n",
    "model_weights = model_weights - (1/1.0) * 0.1 * linear_layer.weight.grad # 0.1 is the learning rate, 1.0 is the no. of examples for this update\n",
    "print(model_weights) # prints model weights after GD update which is 3x3"
   ]
  },
  {
   "cell_type": "markdown",
   "metadata": {
    "id": "WzQMjE2X2zW0"
   },
   "source": [
    "Generally, a GD update using only 1 training example is termed as stochastic gradient descent (SGD). If GD update uses multiple training examples (our update code actually uses 1 training example), then the optimization algorithm is termed as mini-batch gradient descent. A mini-batch gradient descent algorithm typically runs for several passes (or epochs) over your training data and at each pass, it grabs a mini-batch of training examples to perform the update. The size of the mini-batch and the learning rate are hyperparameters to be selected based on the performance of our model on the examples held out from the training data (or validation set).\n",
    "\n",
    "You can look at the overview of GD optimization algorithms here: https://ruder.io/optimizing-gradient-descent/index.html\n",
    "\n",
    "At this point in the tutorial, you have few more concepts to be learned such as ``torch.optim``, ``torch.utils.data.DataLoader`` and defining a model class by inheriting ``nn.Module`` to make you efficient in deep learning programming. Before you learn them, let us build a linear regression model and train it using synthetic data using all the concepts you have learned so far."
   ]
  },
  {
   "cell_type": "markdown",
   "metadata": {
    "id": "zvdWYuad2zW0"
   },
   "source": [
    "## Linear Regression Model - Full Pipeline\n",
    "\n",
    "### Problem\n",
    "In this section, we will focus on implementing the full pipeline for the linear regression model. Essentially, we will execute the following tasks:\n",
    "- generate synthetic data for linear regression with 1000 training examples each having 1 feature\n",
    "- define a linear regression model based on the computational graph:\n",
    "\n",
    "<img src=\"images/sl1_pytorch_linearregression.jpg\" alt=\"computational graph example for linear regression\" title=\"Example Computational Graph for Linear Regression\" width=\"400\" height=\"250\" />\n",
    "\n",
    "- plot the decision surface (based on random weights) before training\n",
    "- train the linear regression model using mini-batch GD with a batch size of 5 and learning rate of 0.01 for 5 epochs\n",
    "- report the MSE loss on the training examples after each epoch of training\n",
    "- plot the decision surface (based on trained weights) after training\n"
   ]
  },
  {
   "cell_type": "code",
   "execution_count": 64,
   "metadata": {
    "colab": {
     "base_uri": "https://localhost:8080/"
    },
    "executionInfo": {
     "elapsed": 12,
     "status": "ok",
     "timestamp": 1672753432089,
     "user": {
      "displayName": "Md. Tawkat Islam Khondaker",
      "userId": "12040636431562290492"
     },
     "user_tz": 480
    },
    "id": "BKMmpoyi2zW0",
    "outputId": "38dac7da-bc65-4f10-d693-cff0a703fec4"
   },
   "outputs": [],
   "source": [
    "# some useful imports\n",
    "import random\n",
    "import matplotlib.pyplot as plt\n",
    "import torch.nn as nn\n",
    "import math\n",
    "\n",
    "# set the seed (allows reproducibility of the results)\n",
    "manual_seed = 123\n",
    "random.seed(manual_seed)\n",
    "np.random.seed(manual_seed) # allows us to reproduce results when using random generation on the numpy\n",
    "torch.manual_seed(manual_seed) # allows us to reproduce results when using random generation on the cpu\n",
    "device = torch.device(\"cuda\" if torch.cuda.is_available() else \"cpu\")\n",
    "n_gpu = torch.cuda.device_count()\n",
    "if n_gpu > 0:\n",
    "  torch.cuda.manual_seed(manual_seed) # allows us to reproduce results when using random generation on the gpu\n",
    "\n",
    "# hyperparameters\n",
    "MAX_EPOCHS = 5 # maximum number of training epochs\n",
    "LEARNING_RATE = 0.1 # learning rate for the optimization algorithm\n",
    "BATCH_SIZE = 5 # size of the mini-batch for gradient descent\n",
    "NUM_EXAMPLES = 1000 # total number of training examples"
   ]
  },
  {
   "cell_type": "markdown",
   "metadata": {
    "id": "H0trEqYd2zW0"
   },
   "source": [
    "### Preparing synthetic data\n"
   ]
  },
  {
   "cell_type": "code",
   "execution_count": 65,
   "metadata": {
    "executionInfo": {
     "elapsed": 9,
     "status": "ok",
     "timestamp": 1672753432089,
     "user": {
      "displayName": "Md. Tawkat Islam Khondaker",
      "userId": "12040636431562290492"
     },
     "user_tz": 480
    },
    "id": "fQSLjuNU2zW1"
   },
   "outputs": [],
   "source": [
    "# prepare synthetic training examples, 1000 of them each having 1 feature\n",
    "data_input = torch.randn(NUM_EXAMPLES, 1, requires_grad=False) # input features\n",
    "data_output = torch.randn(NUM_EXAMPLES, 1, requires_grad=False) # targets/labels\n",
    "for xi in range(NUM_EXAMPLES):\n",
    "  # make output some arbitrary function of x\n",
    "  data_output[xi] = data_input[xi].item()*2 + random.random() "
   ]
  },
  {
   "cell_type": "markdown",
   "metadata": {
    "id": "x-z6NSus2zW1"
   },
   "source": [
    "### Define linear regression model\n"
   ]
  },
  {
   "cell_type": "code",
   "execution_count": 66,
   "metadata": {
    "executionInfo": {
     "elapsed": 9,
     "status": "ok",
     "timestamp": 1672753432090,
     "user": {
      "displayName": "Md. Tawkat Islam Khondaker",
      "userId": "12040636431562290492"
     },
     "user_tz": 480
    },
    "id": "oWti7Wd52zW1"
   },
   "outputs": [],
   "source": [
    "model = nn.Linear(1, 1) # takes an example with 1 feature and maps to 1 dimensional output\n",
    "criterion = nn.MSELoss()"
   ]
  },
  {
   "cell_type": "markdown",
   "metadata": {
    "id": "fDmC3p7r2zW1"
   },
   "source": [
    "### Plot the decision surface before training\n"
   ]
  },
  {
   "cell_type": "code",
   "execution_count": 68,
   "metadata": {
    "colab": {
     "base_uri": "https://localhost:8080/",
     "height": 281
    },
    "executionInfo": {
     "elapsed": 944,
     "status": "ok",
     "timestamp": 1672753433025,
     "user": {
      "displayName": "Md. Tawkat Islam Khondaker",
      "userId": "12040636431562290492"
     },
     "user_tz": 480
    },
    "id": "larFRslD2zW1",
    "outputId": "9a6575d6-72ef-40a4-fe4c-9a5b4c42c5c4"
   },
   "outputs": [
    {
     "data": {
      "image/png": "[encoded data removed]",
      "text/plain": [
       "<Figure size 640x480 with 1 Axes>"
      ]
     },
     "metadata": {},
     "output_type": "display_data"
    }
   ],
   "source": [
    "# synthetic data\n",
    "plt.plot(data_input.numpy(), data_output.numpy(), 'ro', label='Original data') \n",
    "# model predictions on synthetic data\n",
    "plt.plot(data_input.numpy(), model(data_input).detach().numpy(), label='Fitted line') # \"detach()\" returns a tensor `detached’ from the current graph. \n",
    "plt.legend()\n",
    "plt.title(\"Decision surface before training\")\n",
    "plt.show()"
   ]
  },
  {
   "cell_type": "markdown",
   "metadata": {
    "id": "9Wmv_Jw52zW2"
   },
   "source": [
    "The fitted line (based on random weights) is a poor fit to the underlying data.\n",
    "\n",
    "### Training procedure\n"
   ]
  },
  {
   "cell_type": "markdown",
   "metadata": {
    "id": "annxVxQz2zW3"
   },
   "source": [
    "The skeleton of the training procedure is:"
   ]
  },
  {
   "cell_type": "code",
   "execution_count": 69,
   "metadata": {
    "colab": {
     "base_uri": "https://localhost:8080/",
     "height": 53
    },
    "executionInfo": {
     "elapsed": 37,
     "status": "ok",
     "timestamp": 1672753433027,
     "user": {
      "displayName": "Md. Tawkat Islam Khondaker",
      "userId": "12040636431562290492"
     },
     "user_tz": 480
    },
    "id": "2R1EVNDE2zW3",
    "outputId": "28b5f305-8309-4939-eab0-fc9cab44fc78"
   },
   "outputs": [
    {
     "data": {
      "text/plain": [
       "'\\nfor epoch in 1 to MAX_EPOCHS:\\n   for batch in batches(data): \\n      1. forward propagation - pass the batch through the model\\n      2. backward propagation - compute the gradients w.r.t each model parameter and update the model\\n'"
      ]
     },
     "execution_count": 69,
     "metadata": {},
     "output_type": "execute_result"
    }
   ],
   "source": [
    "'''\n",
    "for epoch in 1 to MAX_EPOCHS:\n",
    "   for batch in batches(data): \n",
    "      1. forward propagation - pass the batch through the model\n",
    "      2. backward propagation - compute the gradients w.r.t each model parameter and update the model\n",
    "'''"
   ]
  },
  {
   "cell_type": "markdown",
   "metadata": {
    "id": "-bdhePf52zW3"
   },
   "source": [
    "The full training procedure is:"
   ]
  },
  {
   "cell_type": "code",
   "execution_count": 70,
   "metadata": {
    "colab": {
     "base_uri": "https://localhost:8080/"
    },
    "executionInfo": {
     "elapsed": 34,
     "status": "ok",
     "timestamp": 1672753433028,
     "user": {
      "displayName": "Md. Tawkat Islam Khondaker",
      "userId": "12040636431562290492"
     },
     "user_tz": 480
    },
    "id": "MADdD2Q62zW3",
    "outputId": "0283099b-a884-4059-d658-83b2c0d3c078"
   },
   "outputs": [
    {
     "name": "stdout",
     "output_type": "stream",
     "text": [
      "Epoch [1/5], Loss: 0.2773\n",
      "Epoch [2/5], Loss: 0.0830\n",
      "Epoch [3/5], Loss: 0.0835\n",
      "Epoch [4/5], Loss: 0.0833\n",
      "Epoch [5/5], Loss: 0.0836\n"
     ]
    }
   ],
   "source": [
    "# placeholders for current batch\n",
    "batch_input = torch.randn(BATCH_SIZE, 1, requires_grad=False)\n",
    "batch_output = torch.randn(BATCH_SIZE, 1, requires_grad=False)\n",
    "num_batches = NUM_EXAMPLES // BATCH_SIZE # number of batches per epoch\n",
    "\n",
    "# kick-start the training\n",
    "for epoch in range(MAX_EPOCHS):\n",
    "  # create a random indices from 1 to NUM_EXAMPLES\n",
    "  rand_indices = np.random.permutation(NUM_EXAMPLES)\n",
    "  total_loss = 0.0\n",
    "  for batch in range(num_batches):\n",
    "    # load the current batch\n",
    "    for bi in range(BATCH_SIZE):\n",
    "      cur_index = rand_indices[batch*BATCH_SIZE + bi]\n",
    "      batch_input[bi] = data_input[cur_index]\n",
    "      batch_output[bi] = data_output[cur_index]\n",
    "    \n",
    "    # forward propagation\n",
    "    # pass the data through the model\n",
    "    model_outputs = model(batch_input)\n",
    "    # compute the loss\n",
    "    cur_loss = criterion(model_outputs, batch_output)\n",
    "    total_loss += cur_loss.item()\n",
    "    \n",
    "    # backward propagation (compute the gradients and update the model)\n",
    "    # compute the gradients\n",
    "    cur_loss.backward()\n",
    "    # update the weights\n",
    "    model.weight.data = model.weight.data - (1.0/BATCH_SIZE) * LEARNING_RATE * model.weight.grad\n",
    "    model.bias.data = model.bias.data - (1.0/BATCH_SIZE) * LEARNING_RATE * model.bias.grad\n",
    "    # clear the buffer\n",
    "    model.weight.grad.zero_()\n",
    "    model.bias.grad.zero_()\n",
    "  # print the loss for every epoch\n",
    "  print('Epoch [{}/{}], Loss: {:.4f}'.format(epoch+1, MAX_EPOCHS, total_loss/num_batches))\n",
    "    \n"
   ]
  },
  {
   "cell_type": "markdown",
   "metadata": {
    "id": "sBsDtNVg2zW4"
   },
   "source": [
    "### Plot the decision surface after training\n"
   ]
  },
  {
   "cell_type": "code",
   "execution_count": 71,
   "metadata": {
    "colab": {
     "base_uri": "https://localhost:8080/",
     "height": 281
    },
    "executionInfo": {
     "elapsed": 687,
     "status": "ok",
     "timestamp": 1672753433695,
     "user": {
      "displayName": "Md. Tawkat Islam Khondaker",
      "userId": "12040636431562290492"
     },
     "user_tz": 480
    },
    "id": "9OL8_JyH2zW4",
    "outputId": "41f4c275-b18a-4caf-e134-a4eda14c0c22"
   },
   "outputs": [
    {
     "data": {
      "image/png": "[encoded data removed]",
      "text/plain": [
       "<Figure size 640x480 with 1 Axes>"
      ]
     },
     "metadata": {},
     "output_type": "display_data"
    }
   ],
   "source": [
    "plt.plot(data_input.numpy(), data_output.numpy(), 'ro', label='Original data') # synthetic data\n",
    "plt.plot(data_input.numpy(), model(data_input).detach().numpy(), label='Fitted line') # model predictions on synthetic data\n",
    "plt.legend()\n",
    "plt.title(\"Decision surface after training\")\n",
    "plt.show()"
   ]
  },
  {
   "cell_type": "markdown",
   "metadata": {
    "id": "fKD9L2zo2zW5"
   },
   "source": [
    "The fitted line (based on learned weights) seems to be a better fit to the underlying data.\n",
    "\n",
    "Now that we have built our first PyTorch model and the training pipeline, we can look into modules in PyTorch which can help us write efficient deep learning code.\n",
    "\n",
    "## Miscellaneous PyTorch modules\n",
    "\n",
    "### DataLoader\n",
    "PyTorch's DataLoader ``torch.utils.data.DataLoader`` brings in several desirable advantages:\n",
    "- automatic batching (e.g., we managed the batches explicitly in our linear regression code which can be avoided)\n",
    "- multi-process data loading\n",
    "- customizing data loading order\n",
    "- automatic memory pinning and so on.\n",
    "\n",
    "Let us implement a simple dataloader for our linear regression problem:"
   ]
  },
  {
   "cell_type": "code",
   "execution_count": 72,
   "metadata": {
    "colab": {
     "base_uri": "https://localhost:8080/"
    },
    "executionInfo": {
     "elapsed": 2668,
     "status": "ok",
     "timestamp": 1672753436350,
     "user": {
      "displayName": "Md. Tawkat Islam Khondaker",
      "userId": "12040636431562290492"
     },
     "user_tz": 480
    },
    "id": "9ItXSWHi2zW6",
    "outputId": "9e6d35f9-d8ff-40ea-b15b-bdeeb04f14a3"
   },
   "outputs": [
    {
     "name": "stdout",
     "output_type": "stream",
     "text": [
      "torch.Size([5, 1]) torch.Size([5, 1])\n",
      "200\n"
     ]
    }
   ],
   "source": [
    "from torch.utils.data import Dataset, DataLoader\n",
    "\n",
    "# create a new class inheriting torch.utils.data.Dataset\n",
    "class LRDataset(Dataset):\n",
    "  \"\"\" LR Synthetic dataset.\"\"\"\n",
    "  # prepare synthetic training examples, 1000 of them each having 1 feature\n",
    "  def __init__(self, n):\n",
    "    self.n = n\n",
    "    self.data_input = torch.randn(n, 1, requires_grad=False)\n",
    "    self.data_output = torch.randn(n, 1, requires_grad=False)\n",
    "    for xi in range(n):\n",
    "      # make output some arbitrary function of x\n",
    "      self.data_output[xi] = self.data_input[xi].item()*2 + random.random() \n",
    "  \n",
    "  # return input and output of a single example\n",
    "  def __getitem__(self, index):\n",
    "    return self.data_input[index], self.data_output[index]\n",
    "  \n",
    "  # return the total number of examples\n",
    "  def __len__(self):\n",
    "    return self.n\n",
    "\n",
    "# create the dataloader object\n",
    "dataset = LRDataset(NUM_EXAMPLES)\n",
    "train_loader = DataLoader(dataset=dataset, batch_size=BATCH_SIZE, shuffle=True, num_workers=2) \n",
    "# num_workers refers to no. of subprocesses to use\n",
    "# for more details, look at https://pytorch.org/docs/stable/data.html#\n",
    "\n",
    "# iterate over the dataset for one epoch\n",
    "num_batches = 0\n",
    "for i, data in enumerate(train_loader, 0):\n",
    "  input, output = data\n",
    "  if i == 0:\n",
    "    print(input.size(), output.size())\n",
    "  num_batches += 1\n",
    "print(num_batches) # prints the number of batches per epoch\n",
    "    "
   ]
  },
  {
   "cell_type": "markdown",
   "metadata": {
    "id": "MFi-ZBEp2zW7"
   },
   "source": [
    "### Defining a custom model class\n",
    "\n",
    "Wrapping the specifics of a model to a class will help us in extending our model swiftly. This is especially useful if our custom model has a lot of layers. We can define a custom model class by inheriting ``torch.nn.Module`` to wrap all the layers in our model as well as the forward propagation logic. \n",
    "\n",
    "Let us implement a custom model for our linear regression problem:"
   ]
  },
  {
   "cell_type": "code",
   "execution_count": 73,
   "metadata": {
    "colab": {
     "base_uri": "https://localhost:8080/"
    },
    "executionInfo": {
     "elapsed": 16,
     "status": "ok",
     "timestamp": 1672753436351,
     "user": {
      "displayName": "Md. Tawkat Islam Khondaker",
      "userId": "12040636431562290492"
     },
     "user_tz": 480
    },
    "id": "a8xOA0Ez2zW7",
    "outputId": "3e99de5b-acb5-4322-ef48-4afdec91cfb5"
   },
   "outputs": [
    {
     "name": "stdout",
     "output_type": "stream",
     "text": [
      "torch.Size([100, 1]) torch.Size([100, 1])\n"
     ]
    }
   ],
   "source": [
    "# create a custom model class inheriting torch.nn.Module\n",
    "class LRmodel(nn.Module):\n",
    "  \n",
    "  def __init__(self):\n",
    "    # In the constructor we define the layers for our model\n",
    "    super(LRmodel, self).__init__()\n",
    "    self.linear_layer = nn.Linear(1, 1)\n",
    "  \n",
    "  def forward(self, x):\n",
    "    # In the forward function we define the forward propagation logic\n",
    "    out = self.linear_layer(x)\n",
    "    return out\n",
    "\n",
    "# instantiate an object from the model\n",
    "model = LRmodel()\n",
    "\n",
    "# create sample input\n",
    "input = torch.randn(100, 1)\n",
    "\n",
    "# pass the data through the model\n",
    "out = model(input)\n",
    "\n",
    "# print the size of the input and output\n",
    "print(input.size(), out.size())"
   ]
  },
  {
   "cell_type": "markdown",
   "metadata": {
    "id": "uBX4cz5j2zW8"
   },
   "source": [
    "### PyTorch's optim package\n",
    "\n",
    "``torch.optim`` is a PyTorch package implementing various optimization algorithms like SGD, Rmsprop and Adam. \n",
    "\n",
    "Let us implement the mini-batch GD algorithm using optim:"
   ]
  },
  {
   "cell_type": "code",
   "execution_count": 74,
   "metadata": {
    "colab": {
     "base_uri": "https://localhost:8080/"
    },
    "executionInfo": {
     "elapsed": 16,
     "status": "ok",
     "timestamp": 1672753436352,
     "user": {
      "displayName": "Md. Tawkat Islam Khondaker",
      "userId": "12040636431562290492"
     },
     "user_tz": 480
    },
    "id": "s4Xj-Z-z2zW8",
    "outputId": "860d5166-d9d7-4431-98aa-1880af0b0d10"
   },
   "outputs": [
    {
     "name": "stdout",
     "output_type": "stream",
     "text": [
      "tensor([[0.9431]])\n",
      "tensor([-0.6068])\n",
      "tensor([[0.7650]])\n",
      "tensor([-0.4840])\n"
     ]
    }
   ],
   "source": [
    "# create an instance of SGD with required hyperparameters\n",
    "optimizer = torch.optim.SGD(model.parameters(), lr=LEARNING_RATE)\n",
    "criterion = nn.MSELoss()\n",
    "\n",
    "# print weights before update\n",
    "for param in model.parameters():\n",
    "  print(param.data)\n",
    "\n",
    "# create sample input and output\n",
    "input = torch.randn(100, 1)\n",
    "output = torch.randn(100, 1)\n",
    "\n",
    "# forward pass\n",
    "prediction = model(input)\n",
    "loss = criterion(prediction, output)\n",
    "# backward pass\n",
    "optimizer.zero_grad() # clears the gradient buffer\n",
    "loss.backward() # performs the backward pass\n",
    "optimizer.step() # update the weights\n",
    "\n",
    "# print weights before update\n",
    "for param in model.parameters():\n",
    "  print(param.data)"
   ]
  },
  {
   "cell_type": "markdown",
   "metadata": {
    "id": "Ulh6O7ZO2zW9"
   },
   "source": [
    "You can look for other available optimization algorithms here: https://pytorch.org/docs/stable/optim.html\n",
    "\n",
    "## Adding dataloader, custom model and optim to our linear regression code\n",
    "\n",
    "In this section we will refine our linear regression code with the previously discussed modules, specifically DataLoader, custom model and optim.\n",
    "\n",
    "The self-contained full code is as below:"
   ]
  },
  {
   "cell_type": "code",
   "execution_count": 75,
   "metadata": {
    "colab": {
     "base_uri": "https://localhost:8080/",
     "height": 632
    },
    "executionInfo": {
     "elapsed": 2086,
     "status": "ok",
     "timestamp": 1672753438427,
     "user": {
      "displayName": "Md. Tawkat Islam Khondaker",
      "userId": "12040636431562290492"
     },
     "user_tz": 480
    },
    "id": "oX0IUEri2zW9",
    "outputId": "3f8c7449-4bf5-42d4-8944-b86a38c56be3"
   },
   "outputs": [
    {
     "data": {
      "image/png": "[encoded data removed]",
      "text/plain": [
       "<Figure size 640x480 with 1 Axes>"
      ]
     },
     "metadata": {},
     "output_type": "display_data"
    },
    {
     "name": "stdout",
     "output_type": "stream",
     "text": [
      "Epoch [1/5], Loss: 0.1291\n",
      "Epoch [2/5], Loss: 0.0847\n",
      "Epoch [3/5], Loss: 0.0870\n",
      "Epoch [4/5], Loss: 0.0863\n",
      "Epoch [5/5], Loss: 0.0867\n"
     ]
    },
    {
     "data": {
      "image/png": "[encoded data removed]",
      "text/plain": [
       "<Figure size 640x480 with 1 Axes>"
      ]
     },
     "metadata": {},
     "output_type": "display_data"
    }
   ],
   "source": [
    "# all the necessary imports\n",
    "import random\n",
    "import matplotlib.pyplot as plt\n",
    "import math\n",
    "import torch\n",
    "from torch.utils.data import Dataset, DataLoader\n",
    "import torch.nn as nn\n",
    "from torch import optim\n",
    "import numpy as np\n",
    "\n",
    "# set the seed\n",
    "manual_seed = 123\n",
    "random.seed(manual_seed)\n",
    "np.random.seed(manual_seed)\n",
    "torch.manual_seed(manual_seed)\n",
    "device = torch.device(\"cuda\" if torch.cuda.is_available() else \"cpu\")\n",
    "n_gpu = torch.cuda.device_count()\n",
    "if n_gpu > 0:\n",
    "  torch.cuda.manual_seed(manual_seed)\n",
    "\n",
    "\"\"\"\n",
    "create a new class inheriting torch.utils.data.Dataset\n",
    "\"\"\"\n",
    "class LRDataset(Dataset):\n",
    "  \"\"\" LR Synthetic dataset.\"\"\"\n",
    "  # prepare synthetic training examples, 1000 of them each having 1 feature\n",
    "  def __init__(self, n):\n",
    "    self.n = n\n",
    "    self.data_input = torch.randn(n, 1, requires_grad=False, device=device)\n",
    "    self.data_output = torch.randn(n, 1, requires_grad=False, device=device)\n",
    "    for xi in range(n):\n",
    "      # make output some arbitrary function of x\n",
    "      self.data_output[xi] = self.data_input[xi].item()*2 + random.random() \n",
    "  \n",
    "  # return input and output of a single example\n",
    "  def __getitem__(self, index):\n",
    "    return self.data_input[index], self.data_output[index]\n",
    "  \n",
    "  # return the total number of examples\n",
    "  def __len__(self):\n",
    "    return self.n\n",
    "\n",
    "\"\"\"\n",
    "create a custom model class inheriting torch.nn.Module\n",
    "\"\"\"\n",
    "class LRmodel(nn.Module):\n",
    "  \n",
    "  def __init__(self):\n",
    "    # In the constructor we define the layers for our model\n",
    "    super(LRmodel, self).__init__()\n",
    "    self.linear_layer = nn.Linear(1, 1)\n",
    "  \n",
    "  def forward(self, x):\n",
    "    # In the forward function we define the forward propagation logic\n",
    "    out = self.linear_layer(x)\n",
    "    return out\n",
    "\n",
    "# hyperparameters\n",
    "MAX_EPOCHS = 5\n",
    "LEARNING_RATE = 0.1\n",
    "BATCH_SIZE = 5\n",
    "NUM_EXAMPLES = 1000\n",
    "\n",
    "# create the dataloader instance\n",
    "dataset = LRDataset(NUM_EXAMPLES)\n",
    "train_loader = DataLoader(dataset=dataset, batch_size=BATCH_SIZE, shuffle=True, num_workers=2) \n",
    "\n",
    "# define the model\n",
    "model = LRmodel()\n",
    "model.to(device)\n",
    "criterion = nn.MSELoss()\n",
    "\n",
    "# create an instance of SGD with required hyperparameters\n",
    "optimizer = torch.optim.SGD(model.parameters(), lr=LEARNING_RATE)\n",
    "\n",
    "# print the decision surface before training\n",
    "plt.plot(dataset.data_input.numpy(), dataset.data_output.numpy(), 'ro', label='Original data') # synthetic data\n",
    "plt.plot(dataset.data_input.numpy(), model(dataset.data_input).detach().numpy(), label='Fitted line') # model predictions on synthetic data\n",
    "plt.legend()\n",
    "plt.title(\"Decision surface before training\")\n",
    "plt.show()\n",
    "\n",
    "# start the training\n",
    "num_batches = NUM_EXAMPLES // BATCH_SIZE # number of batches per epoch\n",
    "for epoch in range(MAX_EPOCHS):\n",
    "  total_loss = 0.0\n",
    "  # iterate throught the data loader\n",
    "  for batch in train_loader:\n",
    "    # load the current batch\n",
    "    batch_input, batch_output = batch\n",
    "    \n",
    "    # forward propagation\n",
    "    # pass the data through the model\n",
    "    model_outputs = model(batch_input)\n",
    "    # compute the loss\n",
    "    cur_loss = criterion(model_outputs, batch_output)\n",
    "    total_loss += cur_loss.item()\n",
    "    \n",
    "    # backward propagation (compute the gradients and update the model)\n",
    "    # clear the buffer\n",
    "    optimizer.zero_grad()\n",
    "    # compute the gradients\n",
    "    cur_loss.backward()\n",
    "    # update the weights\n",
    "    optimizer.step()\n",
    "    \n",
    "  # print the loss for every epoch\n",
    "  print('Epoch [{}/{}], Loss: {:.4f}'.format(epoch+1, MAX_EPOCHS, total_loss/num_batches))\n",
    "\n",
    "# print the decision surface after training\n",
    "plt.plot(dataset.data_input.numpy(), dataset.data_output.numpy(), 'ro', label='Original data') # synthetic data\n",
    "plt.plot(dataset.data_input.numpy(), model(dataset.data_input).detach().numpy(), label='Fitted line') # model predictions on synthetic data\n",
    "plt.legend()\n",
    "plt.title(\"Decision surface after training\")\n",
    "plt.show()"
   ]
  },
  {
   "cell_type": "markdown",
   "metadata": {
    "id": "ZXJuqxNE2zW-"
   },
   "source": [
    "That's it!"
   ]
  },
  {
   "cell_type": "code",
   "execution_count": null,
   "metadata": {
    "executionInfo": {
     "elapsed": 29,
     "status": "ok",
     "timestamp": 1672753438428,
     "user": {
      "displayName": "Md. Tawkat Islam Khondaker",
      "userId": "12040636431562290492"
     },
     "user_tz": 480
    },
    "id": "iI7gxzos2zW_"
   },
   "outputs": [],
   "source": []
  },
  {
   "cell_type": "code",
   "execution_count": null,
   "metadata": {},
   "outputs": [],
   "source": []
  }
 ],
 "metadata": {
  "colab": {
   "provenance": []
  },
  "kernelspec": {
   "display_name": "Python 3 (ipykernel)",
   "language": "python",
   "name": "python3"
  },
  "language_info": {
   "codemirror_mode": {
    "name": "ipython",
    "version": 3
   },
   "file_extension": ".py",
   "mimetype": "text/x-python",
   "name": "python",
   "nbconvert_exporter": "python",
   "pygments_lexer": "ipython3",
   "version": "3.10.12"
  }
 },
 "nbformat": 4,
 "nbformat_minor": 4
}
